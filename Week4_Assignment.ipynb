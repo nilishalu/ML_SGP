{
  "nbformat": 4,
  "nbformat_minor": 0,
  "metadata": {
    "colab": {
      "name": "Week4_Assignment.ipynb",
      "provenance": [],
      "collapsed_sections": [],
      "authorship_tag": "ABX9TyNOVbOIjgRicBXAPqZXV5OF",
      "include_colab_link": true
    },
    "kernelspec": {
      "name": "python3",
      "display_name": "Python 3"
    },
    "language_info": {
      "name": "python"
    }
  },
  "cells": [
    {
      "cell_type": "markdown",
      "metadata": {
        "id": "view-in-github",
        "colab_type": "text"
      },
      "source": [
        "<a href=\"https://colab.research.google.com/github/nilishalu/ML_SGP/blob/Week_2and3_Asignment/Week4_Assignment.ipynb\" target=\"_parent\"><img src=\"https://colab.research.google.com/assets/colab-badge.svg\" alt=\"Open In Colab\"/></a>"
      ]
    },
    {
      "cell_type": "code",
      "metadata": {
        "id": "6gjqj9AvVgXk"
      },
      "source": [
        ""
      ],
      "execution_count": null,
      "outputs": []
    },
    {
      "cell_type": "markdown",
      "metadata": {
        "id": "w3h_8MM2hu0K"
      },
      "source": [
        "**Week 4 ML SGP Assignment**"
      ]
    },
    {
      "cell_type": "markdown",
      "metadata": {
        "id": "HNAVQAqFVg_0"
      },
      "source": [
        "1. To play in Team A, the player must have a **Blue** jersey **and** he **shouldn't be injured** .\n",
        "\n"
      ]
    },
    {
      "cell_type": "markdown",
      "metadata": {
        "id": "0S6gsYozWaC4"
      },
      "source": [
        "2. Z = (x - mean) / SD \n",
        "     = (120 - 100) / 10\n",
        "\n",
        "    Z = 2\n",
        "\n",
        "    Probability of x<120: 0.97725\t\n",
        "\n",
        "    Probability of x>120: 0.02275\t\n",
        "\n",
        "    Probability of 100<x<120: 0.47725\t\n",
        "\n",
        "    So, it is **not** uncommon for this type of tree as probability is 0.97725.\n",
        "\n",
        "\n",
        "  \n",
        "   "
      ]
    },
    {
      "cell_type": "markdown",
      "metadata": {
        "id": "Ks4cC7KUYjWJ"
      },
      "source": [
        "3. Z = (x - mean) / SD = (25 - 20) / 10.5\n",
        "\n",
        "    Z = 0.47619\n",
        "\n",
        "   Probability of x<25: 0.68303\t\n",
        "\n",
        "     Probability of x>25: 0.31697\t\n",
        "\n",
        "     So, it is **not likely** for the sock to be above 25\n"
      ]
    },
    {
      "cell_type": "markdown",
      "metadata": {
        "id": "BTmHKGghZXZN"
      },
      "source": [
        "4. To get a pro-card the player is to be top 4% of all the players.\n",
        "\n",
        "   P(X <= x) = 0.96\n",
        "\n",
        "   P(Z <= (x - 400) / 80) = 0.96\n",
        "\n",
        "   From standard normal table:\n",
        "\n",
        "    P( Z <= 1.76) = 0.96 (appr.)\n",
        "\n",
        "    (x - 400) / 80 = 0.96\n",
        "\n",
        "    x = 476.8\n",
        "    "
      ]
    },
    {
      "cell_type": "markdown",
      "metadata": {
        "id": "ddjAdE8fdOAk"
      },
      "source": [
        "5. x1 = 3 x2 = 7\n",
        "\n",
        "   1) K- Value = 3\n",
        "\n",
        "   2) Distance between query instance and training instances:\n",
        "\n",
        "      [4, 5, 3, 3.6055] = { Bad, Bad, Good, Good } \n",
        "\n",
        "   3) Sorting the distances:\n",
        "\n",
        "      [3, 3.6055, 4, 5] = { Good, Good, Bad, Bad }\n",
        "\n",
        "      Seeing first 3 :\n",
        "\n",
        "      **We have Good = 2 and Bad = 1**\n",
        "\n",
        "    4) Thus, we classify the query instance as **Good**.\n",
        "\n",
        "   \n",
        "\n",
        "  "
      ]
    }
  ]
}